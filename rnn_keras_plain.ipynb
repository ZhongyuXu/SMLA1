{
 "cells": [
  {
   "cell_type": "code",
   "execution_count": 30,
   "metadata": {},
   "outputs": [],
   "source": [
    "import numpy as np\n",
    "import pandas as pd\n",
    "from sklearn.model_selection import train_test_split\n",
    "from sklearn.metrics import accuracy_score\n",
    "\n",
    "from keras_preprocessing.sequence import pad_sequences\n",
    "from keras.utils import to_categorical\n",
    "from keras.models import Sequential\n",
    "from keras.layers import Dense, Dropout, Activation,SimpleRNN\n",
    "from keras import optimizers\n",
    "from keras.wrappers.scikit_learn import KerasClassifier"
   ]
  },
  {
   "cell_type": "code",
   "execution_count": 31,
   "metadata": {},
   "outputs": [
    {
     "data": {
      "text/html": [
       "<div>\n",
       "<style scoped>\n",
       "    .dataframe tbody tr th:only-of-type {\n",
       "        vertical-align: middle;\n",
       "    }\n",
       "\n",
       "    .dataframe tbody tr th {\n",
       "        vertical-align: top;\n",
       "    }\n",
       "\n",
       "    .dataframe thead th {\n",
       "        text-align: right;\n",
       "    }\n",
       "</style>\n",
       "<table border=\"1\" class=\"dataframe\">\n",
       "  <thead>\n",
       "    <tr style=\"text-align: right;\">\n",
       "      <th></th>\n",
       "      <th>text</th>\n",
       "      <th>label</th>\n",
       "    </tr>\n",
       "  </thead>\n",
       "  <tbody>\n",
       "    <tr>\n",
       "      <th>0</th>\n",
       "      <td>[70, 746, 825, 109, 2083, 0, 2, 0, 0, 0, 9, 0,...</td>\n",
       "      <td>1</td>\n",
       "    </tr>\n",
       "    <tr>\n",
       "      <th>1</th>\n",
       "      <td>[1209, 179, 1952, 4, 4959, 7, 0, 2, 978, 1522,...</td>\n",
       "      <td>1</td>\n",
       "    </tr>\n",
       "    <tr>\n",
       "      <th>2</th>\n",
       "      <td>[287, 3, 3330, 0, 23, 12, 13, 465, 74, 8, 0, 8...</td>\n",
       "      <td>1</td>\n",
       "    </tr>\n",
       "    <tr>\n",
       "      <th>3</th>\n",
       "      <td>[0, 0, 3, 592, 19, 2, 706, 1439, 2575, 7, 2, 0...</td>\n",
       "      <td>1</td>\n",
       "    </tr>\n",
       "    <tr>\n",
       "      <th>4</th>\n",
       "      <td>[9, 2, 110, 12, 42, 32, 44, 361, 9, 3860, 2358...</td>\n",
       "      <td>1</td>\n",
       "    </tr>\n",
       "    <tr>\n",
       "      <th>...</th>\n",
       "      <td>...</td>\n",
       "      <td>...</td>\n",
       "    </tr>\n",
       "    <tr>\n",
       "      <th>34395</th>\n",
       "      <td>[175, 1317, 38, 754, 9, 5, 0, 228, 1, 45, 6, 2...</td>\n",
       "      <td>0</td>\n",
       "    </tr>\n",
       "    <tr>\n",
       "      <th>34396</th>\n",
       "      <td>[466, 5, 70, 1242, 6, 3888, 1, 34, 43, 5, 70, ...</td>\n",
       "      <td>0</td>\n",
       "    </tr>\n",
       "    <tr>\n",
       "      <th>34397</th>\n",
       "      <td>[10, 0, 21, 1650, 18, 5, 1335, 1, 208, 5, 997,...</td>\n",
       "      <td>0</td>\n",
       "    </tr>\n",
       "    <tr>\n",
       "      <th>34398</th>\n",
       "      <td>[18, 39, 316, 133, 365, 2019, 1, 27, 10, 5, 61...</td>\n",
       "      <td>0</td>\n",
       "    </tr>\n",
       "    <tr>\n",
       "      <th>34399</th>\n",
       "      <td>[10, 0, 859, 36, 860, 765, 250, 1, 872, 3, 27,...</td>\n",
       "      <td>0</td>\n",
       "    </tr>\n",
       "  </tbody>\n",
       "</table>\n",
       "<p>34400 rows × 2 columns</p>\n",
       "</div>"
      ],
      "text/plain": [
       "                                                    text  label\n",
       "0      [70, 746, 825, 109, 2083, 0, 2, 0, 0, 0, 9, 0,...      1\n",
       "1      [1209, 179, 1952, 4, 4959, 7, 0, 2, 978, 1522,...      1\n",
       "2      [287, 3, 3330, 0, 23, 12, 13, 465, 74, 8, 0, 8...      1\n",
       "3      [0, 0, 3, 592, 19, 2, 706, 1439, 2575, 7, 2, 0...      1\n",
       "4      [9, 2, 110, 12, 42, 32, 44, 361, 9, 3860, 2358...      1\n",
       "...                                                  ...    ...\n",
       "34395  [175, 1317, 38, 754, 9, 5, 0, 228, 1, 45, 6, 2...      0\n",
       "34396  [466, 5, 70, 1242, 6, 3888, 1, 34, 43, 5, 70, ...      0\n",
       "34397  [10, 0, 21, 1650, 18, 5, 1335, 1, 208, 5, 997,...      0\n",
       "34398  [18, 39, 316, 133, 365, 2019, 1, 27, 10, 5, 61...      0\n",
       "34399  [10, 0, 859, 36, 860, 765, 250, 1, 872, 3, 27,...      0\n",
       "\n",
       "[34400 rows x 2 columns]"
      ]
     },
     "execution_count": 31,
     "metadata": {},
     "output_type": "execute_result"
    }
   ],
   "source": [
    "file_path_1 = 'data/domain1_train.json'\n",
    "df1 = pd.read_json(file_path_1, lines=True)\n",
    "\n",
    "\n",
    "file_path_2 = 'data/domain2_train.json'\n",
    "df2 = pd.read_json(file_path_2, lines=True).drop('model', axis=1)\n",
    "\n",
    "\n",
    "df_comb = pd.concat([df1, df2],axis=0,ignore_index=True)\n",
    "\n",
    "df_comb"
   ]
  },
  {
   "cell_type": "code",
   "execution_count": 32,
   "metadata": {},
   "outputs": [
    {
     "name": "stdout",
     "output_type": "stream",
     "text": [
      "[0, 1225, 7, 0, 0, 1813, 3042, 38, 24, 3887, 90, 5, 0, 6, 3059, 953, 3, 0, 2, 0, 9, 1080, 7, 3708, 9, 73, 34, 405, 0, 2129, 1]\n",
      "1\n"
     ]
    }
   ],
   "source": [
    "X = np.array(df_comb['text'])\n",
    "y = np.array(df_comb['label'])\n",
    "\n",
    "X_train, X_test, y_train, y_test = train_test_split(X, y, test_size=0.2, random_state=42)\n",
    "print(X_train[3]) \n",
    "print(y_train[3])"
   ]
  },
  {
   "cell_type": "code",
   "execution_count": 33,
   "metadata": {},
   "outputs": [],
   "source": [
    "# Data parameters\n",
    "num_classes = 2\n",
    "\n",
    "# Hyperparameters\n",
    "maxlen = 50  #We set the maximum size of each list to 50.\n",
    "batch_size = 10\n",
    "n_epochs = 50\n",
    "learning_rate = 0.00001\n",
    "hidden_layers = 200"
   ]
  },
  {
   "cell_type": "code",
   "execution_count": 34,
   "metadata": {},
   "outputs": [
    {
     "name": "stdout",
     "output_type": "stream",
     "text": [
      "[   0 1225    7    0    0 1813 3042   38   24 3887   90    5    0    6\n",
      " 3059  953    3    0    2    0    9 1080    7 3708    9   73   34  405\n",
      "    0 2129    1    0    0    0    0    0    0    0    0    0    0    0\n",
      "    0    0    0    0    0    0    0    0]\n"
     ]
    }
   ],
   "source": [
    "X_train = pad_sequences(X_train, padding='post', maxlen=maxlen)\n",
    "X_test = pad_sequences(X_test, padding='post', maxlen=maxlen)\n",
    "\n",
    "print(X_train[3]) "
   ]
  },
  {
   "cell_type": "code",
   "execution_count": 35,
   "metadata": {},
   "outputs": [
    {
     "name": "stdout",
     "output_type": "stream",
     "text": [
      "(27520, 2)\n",
      "[1. 0.]\n"
     ]
    }
   ],
   "source": [
    "y_train = to_categorical(y_train, num_classes)\n",
    "y_test = to_categorical(y_test, num_classes)\n",
    "\n",
    "print(y_train.shape)\n",
    "print(y_train[0])"
   ]
  },
  {
   "cell_type": "code",
   "execution_count": 36,
   "metadata": {},
   "outputs": [
    {
     "name": "stdout",
     "output_type": "stream",
     "text": [
      "(27520, 50, 1)\n",
      "(6880, 50, 1)\n"
     ]
    }
   ],
   "source": [
    "#(samples, timesteps, features)\n",
    "#(batch_size, timesteps, input_dim)\n",
    "X_train = np.array(X_train).reshape((X_train.shape[0], X_train.shape[1], 1))\n",
    "print(X_train.shape)  #(750, 100, 1)\n",
    "\n",
    "X_test = np.array(X_test).reshape((X_test.shape[0], X_test.shape[1], 1))\n",
    "print(X_test.shape)"
   ]
  },
  {
   "cell_type": "code",
   "execution_count": 37,
   "metadata": {},
   "outputs": [],
   "source": [
    "def vanilla_rnn():\n",
    "    model = Sequential()\n",
    "    #model.add(SimpleRNN(50, input_shape = (X_train.shape[1], X_train.shape[2],), return_sequences = False))\n",
    "    model.add(SimpleRNN(hidden_layers, input_shape = (maxlen,1), return_sequences = False))\n",
    "    model.add(Dense(num_classes))\n",
    "    model.add(Activation('softmax'))\n",
    "    model.summary()\n",
    "    \n",
    "    adam = optimizers.Adam(lr = learning_rate)\n",
    "    model.compile(loss = 'categorical_crossentropy', optimizer = adam, metrics = ['accuracy'])\n",
    "    \n",
    "    return model"
   ]
  },
  {
   "cell_type": "code",
   "execution_count": 38,
   "metadata": {},
   "outputs": [
    {
     "name": "stdout",
     "output_type": "stream",
     "text": [
      "Model: \"sequential_3\"\n",
      "_________________________________________________________________\n",
      " Layer (type)                Output Shape              Param #   \n",
      "=================================================================\n",
      " simple_rnn_3 (SimpleRNN)    (None, 200)               40400     \n",
      "                                                                 \n",
      " dense_3 (Dense)             (None, 2)                 402       \n",
      "                                                                 \n",
      " activation_3 (Activation)   (None, 2)                 0         \n",
      "                                                                 \n",
      "=================================================================\n",
      "Total params: 40,802\n",
      "Trainable params: 40,802\n",
      "Non-trainable params: 0\n",
      "_________________________________________________________________\n"
     ]
    },
    {
     "name": "stdout",
     "output_type": "stream",
     "text": [
      "Epoch 1/50\n"
     ]
    },
    {
     "name": "stderr",
     "output_type": "stream",
     "text": [
      "C:\\Users\\Andy\\AppData\\Local\\Temp\\ipykernel_18292\\3661013997.py:1: DeprecationWarning: KerasClassifier is deprecated, use Sci-Keras (https://github.com/adriangb/scikeras) instead. See https://www.adriangb.com/scikeras/stable/migration.html for help migrating.\n",
      "  model = KerasClassifier(build_fn = vanilla_rnn, epochs = n_epochs, batch_size = batch_size)\n",
      "c:\\Users\\Andy\\anaconda3\\lib\\site-packages\\keras\\optimizers\\legacy\\adam.py:117: UserWarning: The `lr` argument is deprecated, use `learning_rate` instead.\n",
      "  super().__init__(name, **kwargs)\n"
     ]
    },
    {
     "name": "stdout",
     "output_type": "stream",
     "text": [
      "2752/2752 [==============================] - 20s 7ms/step - loss: 0.5584 - accuracy: 0.7136\n",
      "Epoch 2/50\n",
      "2752/2752 [==============================] - 19s 7ms/step - loss: 0.5436 - accuracy: 0.7309\n",
      "Epoch 3/50\n",
      "2752/2752 [==============================] - 18s 6ms/step - loss: 0.5413 - accuracy: 0.7339\n",
      "Epoch 4/50\n",
      "2752/2752 [==============================] - 17s 6ms/step - loss: 0.5380 - accuracy: 0.7364\n",
      "Epoch 5/50\n",
      "2752/2752 [==============================] - 19s 7ms/step - loss: 0.5333 - accuracy: 0.7410\n",
      "Epoch 6/50\n",
      "2752/2752 [==============================] - 19s 7ms/step - loss: 0.5308 - accuracy: 0.7407\n",
      "Epoch 7/50\n",
      "2752/2752 [==============================] - 18s 6ms/step - loss: 0.5290 - accuracy: 0.7414\n",
      "Epoch 8/50\n",
      "2752/2752 [==============================] - 18s 6ms/step - loss: 0.5274 - accuracy: 0.7414\n",
      "Epoch 9/50\n",
      "2752/2752 [==============================] - 17s 6ms/step - loss: 0.5263 - accuracy: 0.7430\n",
      "Epoch 10/50\n",
      "2752/2752 [==============================] - 18s 7ms/step - loss: 0.5246 - accuracy: 0.7439\n",
      "Epoch 11/50\n",
      "2752/2752 [==============================] - 17s 6ms/step - loss: 0.5226 - accuracy: 0.7455\n",
      "Epoch 12/50\n",
      "2752/2752 [==============================] - 18s 6ms/step - loss: 0.5206 - accuracy: 0.7466\n",
      "Epoch 13/50\n",
      "2752/2752 [==============================] - 18s 7ms/step - loss: 0.5192 - accuracy: 0.7499\n",
      "Epoch 14/50\n",
      "2752/2752 [==============================] - 18s 6ms/step - loss: 0.5168 - accuracy: 0.7511\n",
      "Epoch 15/50\n",
      "2752/2752 [==============================] - 18s 6ms/step - loss: 0.5147 - accuracy: 0.7542\n",
      "Epoch 16/50\n",
      "2752/2752 [==============================] - 17s 6ms/step - loss: 0.5130 - accuracy: 0.7547\n",
      "Epoch 17/50\n",
      "2752/2752 [==============================] - 18s 6ms/step - loss: 0.5119 - accuracy: 0.7567\n",
      "Epoch 18/50\n",
      "2752/2752 [==============================] - 26s 9ms/step - loss: 0.5118 - accuracy: 0.7556\n",
      "Epoch 19/50\n",
      "2752/2752 [==============================] - 33s 12ms/step - loss: 0.5099 - accuracy: 0.7576\n",
      "Epoch 20/50\n",
      "2752/2752 [==============================] - 34s 12ms/step - loss: 0.5091 - accuracy: 0.7578\n",
      "Epoch 21/50\n",
      "2752/2752 [==============================] - 33s 12ms/step - loss: 0.5081 - accuracy: 0.7581\n",
      "Epoch 22/50\n",
      "2752/2752 [==============================] - 34s 12ms/step - loss: 0.5075 - accuracy: 0.7605\n",
      "Epoch 23/50\n",
      "2752/2752 [==============================] - 34s 12ms/step - loss: 0.5065 - accuracy: 0.7608\n",
      "Epoch 24/50\n",
      "2752/2752 [==============================] - 33s 12ms/step - loss: 0.5061 - accuracy: 0.7617\n",
      "Epoch 25/50\n",
      "2752/2752 [==============================] - 34s 12ms/step - loss: 0.5049 - accuracy: 0.7602\n",
      "Epoch 26/50\n",
      "2752/2752 [==============================] - 34s 12ms/step - loss: 0.5044 - accuracy: 0.7626\n",
      "Epoch 27/50\n",
      "2752/2752 [==============================] - 32s 12ms/step - loss: 0.5038 - accuracy: 0.7616\n",
      "Epoch 28/50\n",
      "2752/2752 [==============================] - 32s 12ms/step - loss: 0.5036 - accuracy: 0.7618\n",
      "Epoch 29/50\n",
      "2752/2752 [==============================] - 32s 12ms/step - loss: 0.5028 - accuracy: 0.7642\n",
      "Epoch 30/50\n",
      "2752/2752 [==============================] - 32s 12ms/step - loss: 0.5026 - accuracy: 0.7634\n",
      "Epoch 31/50\n",
      "2752/2752 [==============================] - 32s 12ms/step - loss: 0.5020 - accuracy: 0.7645\n",
      "Epoch 32/50\n",
      "2752/2752 [==============================] - 32s 12ms/step - loss: 0.5017 - accuracy: 0.7641\n",
      "Epoch 33/50\n",
      "2752/2752 [==============================] - 32s 12ms/step - loss: 0.5016 - accuracy: 0.7637\n",
      "Epoch 34/50\n",
      "2752/2752 [==============================] - 20s 7ms/step - loss: 0.5005 - accuracy: 0.7636\n",
      "Epoch 35/50\n",
      "2752/2752 [==============================] - 16s 6ms/step - loss: 0.5005 - accuracy: 0.7643\n",
      "Epoch 36/50\n",
      "2752/2752 [==============================] - 16s 6ms/step - loss: 0.5006 - accuracy: 0.7641\n",
      "Epoch 37/50\n",
      "2752/2752 [==============================] - 16s 6ms/step - loss: 0.4997 - accuracy: 0.7650\n",
      "Epoch 38/50\n",
      "2752/2752 [==============================] - 16s 6ms/step - loss: 0.4996 - accuracy: 0.7651\n",
      "Epoch 39/50\n",
      "2752/2752 [==============================] - 16s 6ms/step - loss: 0.4995 - accuracy: 0.7655\n",
      "Epoch 40/50\n",
      "2752/2752 [==============================] - 16s 6ms/step - loss: 0.4988 - accuracy: 0.7666\n",
      "Epoch 41/50\n",
      "2752/2752 [==============================] - 16s 6ms/step - loss: 0.4975 - accuracy: 0.7666\n",
      "Epoch 42/50\n",
      "2752/2752 [==============================] - 16s 6ms/step - loss: 0.4981 - accuracy: 0.7666\n",
      "Epoch 43/50\n",
      "2752/2752 [==============================] - 16s 6ms/step - loss: 0.4974 - accuracy: 0.7673\n",
      "Epoch 44/50\n",
      "2752/2752 [==============================] - 16s 6ms/step - loss: 0.4971 - accuracy: 0.7674\n",
      "Epoch 45/50\n",
      "2752/2752 [==============================] - 16s 6ms/step - loss: 0.4966 - accuracy: 0.7682\n",
      "Epoch 46/50\n",
      "2752/2752 [==============================] - 16s 6ms/step - loss: 0.4960 - accuracy: 0.7675\n",
      "Epoch 47/50\n",
      "2752/2752 [==============================] - 16s 6ms/step - loss: 0.4960 - accuracy: 0.7680\n",
      "Epoch 48/50\n",
      "2752/2752 [==============================] - 16s 6ms/step - loss: 0.4956 - accuracy: 0.7679\n",
      "Epoch 49/50\n",
      "2752/2752 [==============================] - 16s 6ms/step - loss: 0.4954 - accuracy: 0.7691\n",
      "Epoch 50/50\n",
      "2752/2752 [==============================] - 15s 6ms/step - loss: 0.4955 - accuracy: 0.7699\n"
     ]
    },
    {
     "data": {
      "text/plain": [
       "<keras.callbacks.History at 0x196e0caa250>"
      ]
     },
     "execution_count": 38,
     "metadata": {},
     "output_type": "execute_result"
    }
   ],
   "source": [
    "model = KerasClassifier(build_fn = vanilla_rnn, epochs = n_epochs, batch_size = batch_size)\n",
    "model.fit(X_train, y_train)"
   ]
  },
  {
   "cell_type": "code",
   "execution_count": 39,
   "metadata": {},
   "outputs": [
    {
     "name": "stdout",
     "output_type": "stream",
     "text": [
      "215/215 [==============================] - 1s 5ms/step\n",
      "0.7582848837209303\n"
     ]
    }
   ],
   "source": [
    "\n",
    "y_pred = model.predict(X_test)\n",
    "y_test_ = np.argmax(y_test, axis = 1)\n",
    "\n",
    "print(accuracy_score(y_pred, y_test_))"
   ]
  }
 ],
 "metadata": {
  "kernelspec": {
   "display_name": "base",
   "language": "python",
   "name": "python3"
  },
  "language_info": {
   "codemirror_mode": {
    "name": "ipython",
    "version": 3
   },
   "file_extension": ".py",
   "mimetype": "text/x-python",
   "name": "python",
   "nbconvert_exporter": "python",
   "pygments_lexer": "ipython3",
   "version": "3.9.12"
  },
  "orig_nbformat": 4
 },
 "nbformat": 4,
 "nbformat_minor": 2
}
