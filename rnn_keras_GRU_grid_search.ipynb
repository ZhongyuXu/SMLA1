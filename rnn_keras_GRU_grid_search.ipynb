{
 "cells": [
  {
   "cell_type": "code",
   "execution_count": 1,
   "metadata": {},
   "outputs": [],
   "source": [
    "import numpy as np\n",
    "import pandas as pd\n",
    "from sklearn.model_selection import train_test_split\n",
    "from sklearn.metrics import accuracy_score\n",
    "from sklearn.model_selection import StratifiedKFold\n",
    "\n",
    "\n",
    "from keras_preprocessing.sequence import pad_sequences\n",
    "from keras.utils import to_categorical\n",
    "from keras.models import Sequential\n",
    "from keras.layers import Dense, Dropout, Activation, GRU\n",
    "from keras import optimizers\n",
    "from keras.wrappers.scikit_learn import KerasClassifier\n",
    "from keras import callbacks"
   ]
  },
  {
   "cell_type": "code",
   "execution_count": null,
   "metadata": {},
   "outputs": [],
   "source": [
    "file_path_1 = 'data/domain1_train.json'\n",
    "df1 = pd.read_json(file_path_1, lines=True)\n",
    "file_path_2 = 'data/domain2_train.json'\n",
    "df2 = pd.read_json(file_path_2, lines=True).drop('model', axis=1)\n",
    "df_comb = pd.concat([df1, df2],axis=0,ignore_index=True)\n",
    "\n",
    "X = np.array(df_comb['text'])\n",
    "y = np.array(df_comb['label'])"
   ]
  },
  {
   "cell_type": "code",
   "execution_count": null,
   "metadata": {},
   "outputs": [],
   "source": [
    "\n",
    "\n",
    "X_train, X_test, y_train, y_test = train_test_split(X, y, test_size=0.2, random_state=42)\n"
   ]
  },
  {
   "cell_type": "code",
   "execution_count": null,
   "metadata": {},
   "outputs": [],
   "source": [
    "# Data parameters\n",
    "num_classes = 2\n",
    "\n",
    "# Hyperparameters\n",
    "maxlen = 120  #Start with the median, max at 75th percentile\n",
    "batch_size = 32 # base on experiment 32 is reasonable starting point (the best)\n",
    "n_epochs = 20\n",
    "# recommened learning rate is 0.001 to 0.005. usually 0.002 and 0.003 is the best\n",
    "learning_rate = 0.002\n",
    "# start small and increase gradually \n",
    "hidden_layers = 32\n",
    "early_stop_patience = 2"
   ]
  },
  {
   "cell_type": "code",
   "execution_count": null,
   "metadata": {},
   "outputs": [],
   "source": [
    "X_train = pad_sequences(X_train, padding='post', maxlen=maxlen)\n",
    "X_test = pad_sequences(X_test, padding='post', maxlen=maxlen)\n",
    "\n",
    "print(X_train[3]) "
   ]
  },
  {
   "cell_type": "code",
   "execution_count": null,
   "metadata": {},
   "outputs": [],
   "source": [
    "y_train = to_categorical(y_train, num_classes)\n",
    "y_test = to_categorical(y_test, num_classes)\n",
    "\n",
    "print(y_train.shape)\n",
    "print(y_train[0])"
   ]
  },
  {
   "cell_type": "code",
   "execution_count": null,
   "metadata": {},
   "outputs": [],
   "source": [
    "#(samples, timesteps, features)\n",
    "#(batch_size, timesteps, input_dim)\n",
    "X_train = np.array(X_train).reshape((X_train.shape[0], X_train.shape[1], 1))\n",
    "print(X_train.shape)  #(750, 100, 1)\n",
    "\n",
    "X_test = np.array(X_test).reshape((X_test.shape[0], X_test.shape[1], 1))\n",
    "print(X_test.shape)"
   ]
  },
  {
   "cell_type": "code",
   "execution_count": null,
   "metadata": {},
   "outputs": [],
   "source": [
    "def vanilla_rnn():\n",
    "    model = Sequential()\n",
    "    model.add(GRU(hidden_layers, input_shape = (maxlen,1), return_sequences = False))\n",
    "    model.add(Dense(num_classes))\n",
    "    model.add(Activation('softmax'))\n",
    "    model.summary()\n",
    "    \n",
    "    adam = optimizers.Adam(learning_rate = learning_rate)\n",
    "    model.compile(loss = 'categorical_crossentropy', optimizer = adam, metrics = ['accuracy'])\n",
    "    \n",
    "    return model"
   ]
  },
  {
   "cell_type": "code",
   "execution_count": null,
   "metadata": {},
   "outputs": [],
   "source": [
    "earlystopping = callbacks.EarlyStopping(monitor=\"accuracy\",\n",
    "                                        mode=\"max\", patience=early_stop_patience,\n",
    "                                        restore_best_weights=True)\n",
    "model = KerasClassifier(build_fn = vanilla_rnn, epochs = n_epochs, batch_size = batch_size)\n",
    "model.fit(X_train, y_train, callbacks=[earlystopping])"
   ]
  },
  {
   "cell_type": "code",
   "execution_count": null,
   "metadata": {},
   "outputs": [],
   "source": [
    "y_pred = model.predict(X_test)\n",
    "y_test_ = np.argmax(y_test, axis = 1)\n",
    "\n",
    "print(accuracy_score(y_pred, y_test_))"
   ]
  },
  {
   "cell_type": "markdown",
   "metadata": {},
   "source": [
    "# Kaggle Dataset"
   ]
  },
  {
   "cell_type": "code",
   "execution_count": null,
   "metadata": {},
   "outputs": [],
   "source": [
    "file_path_test = 'data/test_set.json'\n",
    "df_test = pd.read_json(file_path_test, lines=True)\n",
    "X_Kaggle = np.array(df_test['text'])\n",
    "X_Kaggle = pad_sequences(X_Kaggle, padding='post', maxlen=maxlen)\n",
    "X_Kaggle = np.array(X_Kaggle).reshape((X_Kaggle.shape[0], X_Kaggle.shape[1], 1))\n",
    "y_Kaggle = model.predict(X_Kaggle)"
   ]
  },
  {
   "cell_type": "code",
   "execution_count": null,
   "metadata": {},
   "outputs": [],
   "source": [
    "# # Add predictions to the test DataFrame\n",
    "df_test['class'] = y_Kaggle\n",
    "\n",
    "# # Select only the columns you want to include in the CSV\n",
    "selected_columns = ['id', 'class']  # Include other columns as needed\n",
    "\n",
    "# # Save the selected columns to a CSV file\n",
    "df_test[selected_columns].to_csv('prediction/GRU_RNN.csv', index=False)"
   ]
  }
 ],
 "metadata": {
  "kernelspec": {
   "display_name": "base",
   "language": "python",
   "name": "python3"
  },
  "language_info": {
   "codemirror_mode": {
    "name": "ipython",
    "version": 3
   },
   "file_extension": ".py",
   "mimetype": "text/x-python",
   "name": "python",
   "nbconvert_exporter": "python",
   "pygments_lexer": "ipython3",
   "version": "3.9.12"
  },
  "orig_nbformat": 4
 },
 "nbformat": 4,
 "nbformat_minor": 2
}
