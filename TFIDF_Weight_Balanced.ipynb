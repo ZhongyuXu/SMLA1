{
 "cells": [
  {
   "cell_type": "code",
   "execution_count": 39,
   "metadata": {
    "scrolled": false
   },
   "outputs": [
    {
     "name": "stdout",
     "output_type": "stream",
     "text": [
      "Logistic Regression Accuracy: 0.7957848837209303\n",
      "SVM Accuracy: 0.8566860465116279\n"
     ]
    }
   ],
   "source": [
    "import pandas as pd\n",
    "from gensim.models.doc2vec import Doc2Vec, TaggedDocument\n",
    "from sklearn.model_selection import train_test_split\n",
    "from sklearn.linear_model import LogisticRegression\n",
    "from sklearn.svm import SVC\n",
    "from sklearn.metrics import accuracy_score\n",
    "\n",
    "# file paths\n",
    "file_path_1 = 'domain1_train.json'\n",
    "file_path_2 = 'domain2_train.json'\n",
    "\n",
    "# create pandas dataframes\n",
    "df1 = pd.read_json(file_path_1, lines=True)\n",
    "df2 = pd.read_json(file_path_2, lines=True)\n",
    "df22 = df2[['label','text']]\n",
    "\n",
    "df_comb = pd.concat([df1, df22],axis=0,ignore_index=True)\n",
    "\n",
    "\n",
    "file_path_test = 'test_set.json'\n",
    "df_test = pd.read_json(file_path_test, lines=True)\n",
    "df_test.head()\n",
    "\n",
    "\n",
    "# Step 1: Prepare the data as TaggedDocument objects\n",
    "tagged_data = [TaggedDocument(words=[str(x) for x in text], tags=[i]) for i, text in enumerate(df_comb['text'])]\n",
    "\n",
    "# Step 2: Create and train the Doc2Vec model\n",
    "model = Doc2Vec(vector_size=50,  # You can adjust the vector size as needed\n",
    "                window=2,\n",
    "                min_count=1,\n",
    "                workers=4, # CPU\n",
    "                epochs=20)\n",
    "\n",
    "model.build_vocab(tagged_data)\n",
    "model.train(tagged_data, total_examples=model.corpus_count, epochs=model.epochs)\n",
    "\n",
    "# Step 3: Generate embeddings for your tokens\n",
    "embeddings = [model.infer_vector([str(x) for x in text]) for text in df_comb['text']]\n",
    "\n",
    "# Step 4: Split the data into training and testing sets\n",
    "X = embeddings\n",
    "y = df_comb['label']  # Use the 'label' column as the target variable\n",
    "\n",
    "X_train, X_test, y_train, y_test = train_test_split(X, y, test_size=0.2, random_state=42)\n",
    "\n",
    "# Step 5: Train and evaluate your models\n",
    "# Logistic Regression\n",
    "lr_model = LogisticRegression(class_weight='balanced')\n",
    "lr_model.fit(X_train, y_train)\n",
    "lr_predictions = lr_model.predict(X_test)\n",
    "lr_accuracy = accuracy_score(y_test, lr_predictions)\n",
    "print(\"Logistic Regression Accuracy:\", lr_accuracy)\n",
    "\n",
    "# Support Vector Machine\n",
    "svm_model = SVC(class_weight='balanced')\n",
    "svm_model.fit(X_train, y_train)\n",
    "svm_predictions = svm_model.predict(X_test)\n",
    "svm_accuracy = accuracy_score(y_test, svm_predictions)\n",
    "print(\"SVM Accuracy:\", svm_accuracy)"
   ]
  },
  {
   "cell_type": "code",
   "execution_count": 40,
   "metadata": {},
   "outputs": [],
   "source": [
    "# Step 1: Load the test data from \"test_set.json\"\n",
    "test_file_path = 'test_set.json'\n",
    "test_df = pd.read_json(test_file_path, lines=True)\n",
    "\n",
    "# Step 2: Generate embeddings for the test data\n",
    "test_embeddings = [model.infer_vector([str(x) for x in text]) for text in test_df['text']]\n",
    "\n",
    "# Step 3: Make predictions using the trained models\n",
    "lr_test_predictions = lr_model.predict(test_embeddings)\n",
    "svm_test_predictions = svm_model.predict(test_embeddings)"
   ]
  },
  {
   "cell_type": "code",
   "execution_count": 41,
   "metadata": {},
   "outputs": [
    {
     "name": "stdout",
     "output_type": "stream",
     "text": [
      "Predictions saved to 'test_predictions_LR_Doc2Vec_balanced_both_domains.csv'\n",
      "Predictions saved to 'test_predictions_SVM_Doc2Vec_balanced_both_domains.csv'\n"
     ]
    }
   ],
   "source": [
    "# Add predictions to the test DataFrame\n",
    "test_df['class'] = lr_test_predictions\n",
    "\n",
    "# Select only the columns you want to include in the CSV\n",
    "selected_columns = ['id', 'class']  # Include other columns as needed\n",
    "\n",
    "# Save the selected columns to a CSV file\n",
    "test_df[selected_columns].to_csv('test_predictions_LR_Doc2Vec_balanced_both_domains.csv', index=False)\n",
    "\n",
    "print(\"Predictions saved to 'test_predictions_LR_Doc2Vec_balanced_both_domains.csv'\")\n",
    "\n",
    "# Add predictions to the test DataFrame\n",
    "test_df['class'] = svm_test_predictions\n",
    "\n",
    "# Select only the columns you want to include in the CSV\n",
    "selected_columns = ['id', 'class']  # Include other columns as needed\n",
    "\n",
    "# Save the selected columns to a CSV file\n",
    "test_df[selected_columns].to_csv('test_predictions_SVM_TFIDF_balanced_both_domains.csv', index=False)\n",
    "\n",
    "print(\"Predictions saved to 'test_predictions_SVM_TFIDF_balanced_both_domains.csv'\")"
   ]
  }
 ],
 "metadata": {
  "colab": {
   "provenance": []
  },
  "kernelspec": {
   "display_name": "Python 3 (ipykernel)",
   "language": "python",
   "name": "python3"
  },
  "language_info": {
   "codemirror_mode": {
    "name": "ipython",
    "version": 3
   },
   "file_extension": ".py",
   "mimetype": "text/x-python",
   "name": "python",
   "nbconvert_exporter": "python",
   "pygments_lexer": "ipython3",
   "version": "3.9.12"
  }
 },
 "nbformat": 4,
 "nbformat_minor": 1
}
