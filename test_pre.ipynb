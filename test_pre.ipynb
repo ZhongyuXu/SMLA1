{
  "cells": [
    {
      "cell_type": "code",
      "execution_count": null,
      "metadata": {
        "id": "AdaLEV8m58LA",
        "outputId": "e783cfbb-1fe9-4004-fa40-4ccd7702265a"
      },
      "outputs": [
        {
          "name": "stdout",
          "output_type": "stream",
          "text": [
            "Accuracy: 0.8401162790697675\n"
          ]
        }
      ],
      "source": [
        "import numpy as np\n",
        "import json\n",
        "import pandas as pd\n",
        "from sklearn.feature_extraction.text import CountVectorizer\n",
        "from sklearn.model_selection import train_test_split\n",
        "from sklearn.naive_bayes import MultinomialNB\n",
        "from sklearn.linear_model import LogisticRegression\n",
        "\n",
        "from sklearn.metrics import accuracy_score\n",
        "\n",
        "# Read JSON data\n",
        "data_list = []\n",
        "with open('combined.json', 'r') as f:\n",
        "    for line in f:\n",
        "        data_list.append(json.loads(line))\n",
        "\n",
        "# Convert to DataFrame\n",
        "df = pd.DataFrame(data_list)\n",
        "\n",
        "# Numeric sequences and corresponding labels\n",
        "sequences = df['text'].to_list()\n",
        "labels =  df['label'].to_list() # Corresponding labels (1 for human, 0 for machine)\n",
        "\n",
        "# Create a CountVectorizer\n",
        "vectorizer = CountVectorizer()\n",
        "\n",
        "# Convert numeric sequences into BoW-like vectors\n",
        "bow_vectors = vectorizer.fit_transform([\" \".join(map(str, seq)) for seq in sequences])\n",
        "\n",
        "# Split data into training and testing sets\n",
        "X_train, X_test, y_train, y_test = train_test_split(bow_vectors, labels, test_size=0.2, random_state=42)\n",
        "\n",
        "# Train a Naive Bayes classifier\n",
        "classifier = LogisticRegression(solver='newton-cg', C=0.5, max_iter=10000)#MultinomialNB()\n",
        "classifier.fit(X_train, y_train)\n",
        "\n",
        "# Make predictions on the test data\n",
        "predictions = classifier.predict(X_test)\n",
        "\n",
        "# Evaluate accuracy\n",
        "accuracy = accuracy_score(y_test, predictions)\n",
        "print(\"Accuracy:\", accuracy)\n"
      ]
    },
    {
      "cell_type": "code",
      "execution_count": null,
      "metadata": {
        "id": "BxFLSrY158LI",
        "outputId": "09624c6b-85c8-4506-b7e8-9f2aa98777d8"
      },
      "outputs": [
        {
          "name": "stdout",
          "output_type": "stream",
          "text": [
            "Predictions saved to 'test_predictions.csv'\n"
          ]
        }
      ],
      "source": [
        "# Load test data from JSON file\n",
        "test_data_list = []\n",
        "with open('test_set.json', 'r') as f:\n",
        "    for line in f:\n",
        "        test_data_list.append(json.loads(line))\n",
        "\n",
        "# Convert test data to DataFrame\n",
        "test_df = pd.DataFrame(test_data_list)\n",
        "\n",
        "# Convert test data numeric sequences into BoW-like vectors using the same vectorizer\n",
        "test_bow_vectors = vectorizer.transform([\" \".join(map(str, seq)) for seq in test_df['text']])\n",
        "\n",
        "# Make predictions on the test data\n",
        "test_predictions = classifier.predict(test_bow_vectors)\n",
        "\n",
        "# Add predictions to the test DataFrame\n",
        "test_df['class'] = test_predictions\n",
        "\n",
        "# Select only the columns you want to include in the CSV\n",
        "selected_columns = ['id', 'class']  # Include other columns as needed\n",
        "\n",
        "# Save the selected columns to a CSV file\n",
        "test_df[selected_columns].to_csv('test_predictions.csv', index=False)\n",
        "\n",
        "print(\"Predictions saved to 'test_predictions.csv'\")\n"
      ]
    },
    {
      "cell_type": "code",
      "execution_count": null,
      "metadata": {
        "id": "pJRhgnZp58LK",
        "outputId": "1da557d6-2754-440f-f182-6a92366b71d3"
      },
      "outputs": [
        {
          "name": "stdout",
          "output_type": "stream",
          "text": [
            "Combined data saved to 'combined.json'\n"
          ]
        }
      ],
      "source": [
        "\n",
        "# Load data from the first JSON file\n",
        "data_list1 = []\n",
        "with open('domain1_train.json', 'r') as f1:\n",
        "    for line in f1:\n",
        "        data_list1.append(json.loads(line))\n",
        "\n",
        "# Load data from the second JSON file\n",
        "data_list2 = []\n",
        "with open('domain2_train.json', 'r') as f2:\n",
        "    for line in f2:\n",
        "        data_list2.append(json.loads(line))\n",
        "\n",
        "# Combine the data from both lists\n",
        "combined_data = data_list1 + data_list2\n",
        "\n",
        "# Save the combined data to a new JSON file\n",
        "with open('combined.json', 'w') as output_file:\n",
        "    for item in combined_data:\n",
        "        json.dump(item, output_file)\n",
        "        output_file.write('\\n')\n",
        "\n",
        "print(\"Combined data saved to 'combined.json'\")\n"
      ]
    },
    {
      "cell_type": "code",
      "execution_count": null,
      "metadata": {
        "id": "oBhB4mxl58LL",
        "outputId": "d534c5b8-9643-4bc6-f8d1-da2a7e159a68"
      },
      "outputs": [
        {
          "name": "stdout",
          "output_type": "stream",
          "text": [
            "SVM Accuracy: 0.827906976744186\n"
          ]
        }
      ],
      "source": [
        "import numpy as np\n",
        "import json\n",
        "import pandas as pd\n",
        "from sklearn.feature_extraction.text import CountVectorizer\n",
        "from sklearn.model_selection import train_test_split\n",
        "from sklearn.svm import SVC  # Import the SVM classifier\n",
        "from sklearn.metrics import accuracy_score\n",
        "\n",
        "# Read JSON data\n",
        "data_list = []\n",
        "with open('combined.json', 'r') as f:\n",
        "    for line in f:\n",
        "        data_list.append(json.loads(line))\n",
        "\n",
        "# Convert to DataFrame\n",
        "df = pd.DataFrame(data_list)\n",
        "\n",
        "# Numeric sequences and corresponding labels\n",
        "sequences = df['text'].to_list()\n",
        "labels = df['label'].to_list()  # Corresponding labels (1 for human, 0 for machine)\n",
        "\n",
        "# Create a CountVectorizer\n",
        "vectorizer = CountVectorizer()\n",
        "\n",
        "# Convert numeric sequences into BoW-like vectors\n",
        "bow_vectors = vectorizer.fit_transform([\" \".join(map(str, seq)) for seq in sequences])\n",
        "\n",
        "# Split data into training and testing sets\n",
        "X_train, X_test, y_train, y_test = train_test_split(bow_vectors, labels, test_size=0.2, random_state=42)\n",
        "\n",
        "# Create an SVM classifier\n",
        "svm_classifier = SVC(kernel='linear', C=1.0)  # You can adjust hyperparameters here\n",
        "\n",
        "# Train the SVM classifier\n",
        "svm_classifier.fit(X_train, y_train)\n",
        "\n",
        "# Make predictions on the test data\n",
        "svm_predictions = svm_classifier.predict(X_test)\n",
        "\n",
        "# Evaluate accuracy for SVM\n",
        "svm_accuracy = accuracy_score(y_test, svm_predictions)\n",
        "print(\"SVM Accuracy:\", svm_accuracy)\n"
      ]
    }
  ],
  "metadata": {
    "kernelspec": {
      "display_name": "Python 3 (ipykernel)",
      "language": "python",
      "name": "python3"
    },
    "language_info": {
      "codemirror_mode": {
        "name": "ipython",
        "version": 3
      },
      "file_extension": ".py",
      "mimetype": "text/x-python",
      "name": "python",
      "nbconvert_exporter": "python",
      "pygments_lexer": "ipython3",
      "version": "3.11.3"
    },
    "colab": {
      "provenance": []
    }
  },
  "nbformat": 4,
  "nbformat_minor": 0
}