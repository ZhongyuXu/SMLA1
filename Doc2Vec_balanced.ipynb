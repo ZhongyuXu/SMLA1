{
 "cells": [
  {
   "cell_type": "code",
   "execution_count": 1,
   "metadata": {},
   "outputs": [],
   "source": [
    "import pandas as pd\n",
    "from gensim.models.doc2vec import Doc2Vec, TaggedDocument\n",
    "from sklearn.model_selection import train_test_split\n",
    "from sklearn.linear_model import LogisticRegression\n",
    "from sklearn.svm import SVC\n",
    "from sklearn.metrics import accuracy_score\n",
    "import os\n",
    "import multiprocessing"
   ]
  },
  {
   "cell_type": "markdown",
   "metadata": {},
   "source": [
    "# Read the Weighted Dataframe"
   ]
  },
  {
   "cell_type": "code",
   "execution_count": 2,
   "metadata": {},
   "outputs": [
    {
     "data": {
      "text/plain": [
       "(107100, 2)"
      ]
     },
     "execution_count": 2,
     "metadata": {},
     "output_type": "execute_result"
    }
   ],
   "source": [
    "df_comb = pd.read_csv('balanced_data.csv')\n",
    "df_comb.shape"
   ]
  },
  {
   "cell_type": "code",
   "execution_count": 3,
   "metadata": {
    "scrolled": false
   },
   "outputs": [],
   "source": [
    "# Step 1: Prepare the data as TaggedDocument objects\n",
    "tagged_data = [TaggedDocument(words=[str(x) for x in text], tags=[i]) for i, text in enumerate(df_comb['text'])]\n",
    "\n",
    "# Step 2: Create and train the Doc2Vec model\n",
    "model = Doc2Vec(vector_size=50,window=2,min_count=1,workers=15, epochs=20)  \n",
    "model.build_vocab(tagged_data)\n",
    "\n",
    "model.train(tagged_data, total_examples=model.corpus_count, epochs=model.epochs)\n",
    "\n",
    "# Step 3: Generate embeddings for your tokens\n",
    "embeddings = [model.infer_vector([str(x) for x in text]) for text in df_comb['text']]\n",
    "\n",
    "# Step 4: Split the data into training and testing sets\n",
    "X = embeddings\n",
    "y = df_comb['label']  # Use the 'label' column as the target variable\n",
    "\n",
    "X_train, X_test, y_train, y_test = train_test_split(X, y, test_size=0.2, random_state=42)"
   ]
  },
  {
   "cell_type": "markdown",
   "metadata": {},
   "source": [
    "# Logistic Regression"
   ]
  },
  {
   "cell_type": "code",
   "execution_count": 4,
   "metadata": {},
   "outputs": [
    {
     "name": "stdout",
     "output_type": "stream",
     "text": [
      "Logistic Regression Accuracy: 0.7994864612511672\n"
     ]
    }
   ],
   "source": [
    "# Step 5: Train and evaluate your models\n",
    "# Logistic Regression\n",
    "lr_model = LogisticRegression(class_weight='balanced', max_iter=1000)\n",
    "lr_model.fit(X_train, y_train)\n",
    "lr_predictions = lr_model.predict(X_test)\n",
    "lr_accuracy = accuracy_score(y_test, lr_predictions)\n",
    "print(\"Logistic Regression Accuracy:\", lr_accuracy)"
   ]
  },
  {
   "cell_type": "markdown",
   "metadata": {},
   "source": [
    "# SVM"
   ]
  },
  {
   "cell_type": "code",
   "execution_count": 5,
   "metadata": {},
   "outputs": [
    {
     "name": "stdout",
     "output_type": "stream",
     "text": [
      "SVM Accuracy: 0.8131652661064426\n"
     ]
    }
   ],
   "source": [
    "# Support Vector Machine\n",
    "svm_model = SVC(class_weight='balanced', kernel='linear')\n",
    "svm_model.fit(X_train, y_train)\n",
    "svm_predictions = svm_model.predict(X_test)\n",
    "svm_accuracy = accuracy_score(y_test, svm_predictions)\n",
    "print(\"SVM Accuracy:\", svm_accuracy)"
   ]
  },
  {
   "cell_type": "markdown",
   "metadata": {},
   "source": [
    "# Kaggle"
   ]
  },
  {
   "cell_type": "code",
   "execution_count": 6,
   "metadata": {},
   "outputs": [],
   "source": [
    "# Step 1: Load the test data from \"test_set.json\"\n",
    "test_file_path = 'data/test_set.json'\n",
    "test_df = pd.read_json(test_file_path, lines=True)\n",
    "\n",
    "# Step 2: Generate embeddings for the test data\n",
    "test_embeddings = [model.infer_vector([str(x) for x in text]) for text in test_df['text']]\n",
    "\n",
    "# Step 3: Make predictions using the trained models"
   ]
  },
  {
   "cell_type": "markdown",
   "metadata": {},
   "source": [
    "## Logistic Regression"
   ]
  },
  {
   "cell_type": "code",
   "execution_count": 7,
   "metadata": {},
   "outputs": [],
   "source": [
    "lr_test_predictions = lr_model.predict(test_embeddings)\n",
    "# Add predictions to the test DataFrame\n",
    "test_df['class'] = lr_test_predictions\n",
    "\n",
    "# Select only the columns you want to include in the CSV\n",
    "selected_columns = ['id', 'class']  # Include other columns as needed\n",
    "\n",
    "# Save the selected columns to a CSV file\n",
    "test_df[selected_columns].to_csv('prediction/Doc2Vec_lgr_balanced.csv', index=False)"
   ]
  },
  {
   "cell_type": "markdown",
   "metadata": {},
   "source": [
    "## SVM"
   ]
  },
  {
   "cell_type": "code",
   "execution_count": 8,
   "metadata": {},
   "outputs": [],
   "source": [
    "svm_test_predictions = svm_model.predict(test_embeddings)\n",
    "\n",
    "# Add predictions to the test DataFrame\n",
    "test_df['class'] = svm_test_predictions\n",
    "\n",
    "# Select only the columns you want to include in the CSV\n",
    "selected_columns = ['id', 'class']  # Include other columns as needed\n",
    "\n",
    "# Save the selected columns to a CSV file\n",
    "test_df[selected_columns].to_csv('prediction/Doc2Vec_svm_balanced.csv', index=False)"
   ]
  }
 ],
 "metadata": {
  "colab": {
   "provenance": []
  },
  "kernelspec": {
   "display_name": "Python 3 (ipykernel)",
   "language": "python",
   "name": "python3"
  },
  "language_info": {
   "codemirror_mode": {
    "name": "ipython",
    "version": 3
   },
   "file_extension": ".py",
   "mimetype": "text/x-python",
   "name": "python",
   "nbconvert_exporter": "python",
   "pygments_lexer": "ipython3",
   "version": "3.9.12"
  }
 },
 "nbformat": 4,
 "nbformat_minor": 1
}
