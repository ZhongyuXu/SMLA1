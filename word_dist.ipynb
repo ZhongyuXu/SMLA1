{
 "cells": [
  {
   "cell_type": "code",
   "execution_count": 1,
   "metadata": {},
   "outputs": [],
   "source": [
    "from collections import Counter\n",
    "import numpy as np\n",
    "import json\n",
    "import pandas as pd\n",
    "import matplotlib.pyplot as plt"
   ]
  },
  {
   "cell_type": "code",
   "execution_count": 2,
   "metadata": {},
   "outputs": [
    {
     "data": {
      "text/html": [
       "<div>\n",
       "<style scoped>\n",
       "    .dataframe tbody tr th:only-of-type {\n",
       "        vertical-align: middle;\n",
       "    }\n",
       "\n",
       "    .dataframe tbody tr th {\n",
       "        vertical-align: top;\n",
       "    }\n",
       "\n",
       "    .dataframe thead th {\n",
       "        text-align: right;\n",
       "    }\n",
       "</style>\n",
       "<table border=\"1\" class=\"dataframe\">\n",
       "  <thead>\n",
       "    <tr style=\"text-align: right;\">\n",
       "      <th></th>\n",
       "      <th>text</th>\n",
       "      <th>label</th>\n",
       "    </tr>\n",
       "    <tr>\n",
       "      <th>model</th>\n",
       "      <th></th>\n",
       "      <th></th>\n",
       "    </tr>\n",
       "  </thead>\n",
       "  <tbody>\n",
       "    <tr>\n",
       "      <th>0.0</th>\n",
       "      <td>2364</td>\n",
       "      <td>2364</td>\n",
       "    </tr>\n",
       "    <tr>\n",
       "      <th>1.0</th>\n",
       "      <td>2357</td>\n",
       "      <td>2357</td>\n",
       "    </tr>\n",
       "    <tr>\n",
       "      <th>2.0</th>\n",
       "      <td>2339</td>\n",
       "      <td>2339</td>\n",
       "    </tr>\n",
       "    <tr>\n",
       "      <th>3.0</th>\n",
       "      <td>2358</td>\n",
       "      <td>2358</td>\n",
       "    </tr>\n",
       "    <tr>\n",
       "      <th>4.0</th>\n",
       "      <td>789</td>\n",
       "      <td>789</td>\n",
       "    </tr>\n",
       "    <tr>\n",
       "      <th>5.0</th>\n",
       "      <td>780</td>\n",
       "      <td>780</td>\n",
       "    </tr>\n",
       "    <tr>\n",
       "      <th>6.0</th>\n",
       "      <td>1763</td>\n",
       "      <td>1763</td>\n",
       "    </tr>\n",
       "    <tr>\n",
       "      <th>7.0</th>\n",
       "      <td>9750</td>\n",
       "      <td>9750</td>\n",
       "    </tr>\n",
       "    <tr>\n",
       "      <th>100000.0</th>\n",
       "      <td>11900</td>\n",
       "      <td>11900</td>\n",
       "    </tr>\n",
       "  </tbody>\n",
       "</table>\n",
       "</div>"
      ],
      "text/plain": [
       "           text  label\n",
       "model                 \n",
       "0.0        2364   2364\n",
       "1.0        2357   2357\n",
       "2.0        2339   2339\n",
       "3.0        2358   2358\n",
       "4.0         789    789\n",
       "5.0         780    780\n",
       "6.0        1763   1763\n",
       "7.0        9750   9750\n",
       "100000.0  11900  11900"
      ]
     },
     "metadata": {},
     "output_type": "display_data"
    }
   ],
   "source": [
    "# Separate 7 models and human data. \n",
    "# Assume Human text is from model 100,000 and machine text is from model 7 in domain 1\n",
    "file_path_1 = 'data/domain1_train.json'\n",
    "df1 = pd.read_json(file_path_1, lines=True)\n",
    "df1.loc[df1['label'] == 1, 'model'] = 100000\n",
    "df1.loc[df1['label'] == 0, 'model'] = 7\n",
    "\n",
    "file_path_2 = 'data/domain2_train.json'\n",
    "df2 = pd.read_json(file_path_2, lines=True)\n",
    "df2['model'].fillna(100000, inplace=True)\n",
    "\n",
    "df_comb = pd.concat([df1, df2],axis=0,ignore_index=True)\n",
    "\n",
    "display(df_comb.groupby(df_comb['model']).count())"
   ]
  },
  {
   "cell_type": "code",
   "execution_count": 3,
   "metadata": {},
   "outputs": [],
   "source": [
    "# Separate observations per model\n",
    "m0 = df_comb.loc[df_comb['model']==0]\n",
    "m1 = df_comb.loc[df_comb['model']==1]\n",
    "m2 = df_comb.loc[df_comb['model']==2]\n",
    "m3 = df_comb.loc[df_comb['model']==3]\n",
    "m4 = df_comb.loc[df_comb['model']==4]\n",
    "m5 = df_comb.loc[df_comb['model']==5]\n",
    "m6 = df_comb.loc[df_comb['model']==6]\n",
    "m7 = df_comb.loc[df_comb['model']==7]\n",
    "mh = df_comb.loc[df_comb['model']==100000]"
   ]
  },
  {
   "cell_type": "code",
   "execution_count": 4,
   "metadata": {},
   "outputs": [],
   "source": [
    "t0 = m0['text']\n",
    "t1 = m1['text']\n",
    "t2 = m2['text']\n",
    "t3 = m3['text']\n",
    "t4 = m4['text']\n",
    "t5 = m5['text']\n",
    "t6 = m6['text']\n",
    "t7 = m7['text']\n",
    "th = mh['text']\n"
   ]
  },
  {
   "cell_type": "code",
   "execution_count": 5,
   "metadata": {},
   "outputs": [],
   "source": [
    "flattened_t0 = [element for sublist in t0 for element in sublist]\n",
    "flattened_t1 = [element for sublist in t1 for element in sublist]\n",
    "flattened_t2 = [element for sublist in t2 for element in sublist]\n",
    "flattened_t3 = [element for sublist in t3 for element in sublist]\n",
    "flattened_t4 = [element for sublist in t4 for element in sublist]\n",
    "flattened_t5 = [element for sublist in t5 for element in sublist]\n",
    "flattened_t6 = [element for sublist in t6 for element in sublist]\n",
    "flattened_t7 = [element for sublist in t7 for element in sublist]\n",
    "flattened_th = [element for sublist in th for element in sublist]"
   ]
  },
  {
   "cell_type": "code",
   "execution_count": 16,
   "metadata": {},
   "outputs": [
    {
     "data": {
      "text/plain": [
       "28591"
      ]
     },
     "execution_count": 16,
     "metadata": {},
     "output_type": "execute_result"
    }
   ],
   "source": [
    "# Count the frequencies of each element in the list\n",
    "word_frequencies_t0 = Counter(flattened_t0)\n",
    "word_frequencies_t1 = Counter(flattened_t1)\n",
    "word_frequencies_t2 = Counter(flattened_t2)\n",
    "word_frequencies_t3 = Counter(flattened_t3)\n",
    "word_frequencies_t4 = Counter(flattened_t4)\n",
    "word_frequencies_t5 = Counter(flattened_t5)\n",
    "word_frequencies_t6 = Counter(flattened_t6)\n",
    "word_frequencies_t7 = Counter(flattened_t7)\n",
    "word_frequencies_th = Counter(flattened_th)\n",
    "\n",
    "# for element, frequency in element_frequencies.items():\n",
    "#     print(f\"Element {element} appears {frequency} times.\")\n",
    "word_frequencies_t0[1]"
   ]
  },
  {
   "cell_type": "code",
   "execution_count": 18,
   "metadata": {},
   "outputs": [
    {
     "data": {
      "text/plain": [
       "28591"
      ]
     },
     "metadata": {},
     "output_type": "display_data"
    },
    {
     "data": {
      "text/plain": [
       "18608"
      ]
     },
     "metadata": {},
     "output_type": "display_data"
    },
    {
     "data": {
      "image/png": "[encoded data removed]",
      "text/plain": [
       "<Figure size 640x480 with 1 Axes>"
      ]
     },
     "metadata": {},
     "output_type": "display_data"
    }
   ],
   "source": [
    "# Extract keys (categories) and values (counts) from the dictionary\n",
    "word_frequencies_t0 = {k: word_frequencies_t0[k] for k in sorted(word_frequencies_t0)}\n",
    "display(word_frequencies_t0[1])\n",
    "words_0 = list(word_frequencies_t0.keys())\n",
    "counts_0 = list(word_frequencies_t0.values())\n",
    "\n",
    "word_frequencies_t1 = {k: word_frequencies_t1[k] for k in sorted(word_frequencies_t1)}\n",
    "display(word_frequencies_t1[1])\n",
    "words_1 = list(word_frequencies_t1.keys())\n",
    "counts_1 = list(word_frequencies_t1.values())\n",
    "\n",
    "# Create a bar chart\n",
    "plt.plot(words_0, counts_0)\n",
    "plt.plot(words_1, counts_1)\n",
    "# Add labels and title\n",
    "# plt.xlabel('Fruits')\n",
    "# plt.ylabel('Counts')\n",
    "# plt.title('Fruit Counts')\n",
    "\n",
    "# Show the plot\n",
    "plt.show()"
   ]
  },
  {
   "cell_type": "code",
   "execution_count": null,
   "metadata": {},
   "outputs": [],
   "source": []
  }
 ],
 "metadata": {
  "kernelspec": {
   "display_name": "base",
   "language": "python",
   "name": "python3"
  },
  "language_info": {
   "codemirror_mode": {
    "name": "ipython",
    "version": 3
   },
   "file_extension": ".py",
   "mimetype": "text/x-python",
   "name": "python",
   "nbconvert_exporter": "python",
   "pygments_lexer": "ipython3",
   "version": "3.8.10"
  },
  "orig_nbformat": 4
 },
 "nbformat": 4,
 "nbformat_minor": 2
}
